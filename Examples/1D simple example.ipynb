{
 "cells": [
  {
   "cell_type": "code",
   "execution_count": 1,
   "id": "9ef7e61d",
   "metadata": {},
   "outputs": [
    {
     "name": "stdout",
     "output_type": "stream",
     "text": [
      "[[ 1.       0.       0.      ...  0.       0.       0.     ]\n",
      " [-0.15625  1.3125  -0.15625 ...  0.       0.       0.     ]\n",
      " [ 0.      -0.15625  1.3125  ...  0.       0.       0.     ]\n",
      " ...\n",
      " [ 0.       0.       0.      ...  1.3125  -0.15625  0.     ]\n",
      " [ 0.       0.       0.      ... -0.15625  1.3125  -0.15625]\n",
      " [ 0.       0.       0.      ...  0.       0.       1.     ]]\n"
     ]
    }
   ],
   "source": [
    "import numpy as np\n",
    "L = 20\n",
    "tmax = 5\n",
    "nx = 100\n",
    "nt = 200\n",
    "dx = L/(nx);\n",
    "dt = tmax/(nt);\n",
    "gamma=0\n",
    "sigma=1\n",
    "\n",
    "def IC(x):\n",
    "    sigma_0=0.1\n",
    "    u_0=1/(sigma_0*np.sqrt(2*np.pi))\n",
    "    mu=10\n",
    "    return u_0*np.exp(-(x-mu)**2/(2*sigma_0**2))\n",
    "\n",
    "P = np.zeros((nt+1,nx+1))\n",
    "\n",
    "A = np.zeros((nx+1,nx+1))\n",
    "B = np.zeros((nx+1,nx+1))\n",
    "\n",
    "x = np.array(range(nx+1))*dx\n",
    "\n",
    "b = dt*sigma**2/(2*dx**2)\n",
    "c = dt*gamma/2\n",
    "\n",
    "for n in range(nx+1):\n",
    "    x_i = x[n]\n",
    "    a = dt*gamma*x_i/(4*dx)\n",
    "    if n == 0 or n == nx:\n",
    "        A[n,n] = 1\n",
    "        B[n,n] = 1\n",
    "    else:\n",
    "        A[n,n-1] = a-b/2\n",
    "        A[n,n] = 1-c+b\n",
    "        A[n,n+1] = -a-b/2\n",
    "        \n",
    "        B[n,n-1] = -a+b/2\n",
    "        B[n,n] = 1+c-b\n",
    "        B[n,n+1] = a+b/2\n",
    "        \n",
    "for m in range(nt+1):\n",
    "    if m==0:\n",
    "        P[m]=IC(x)\n",
    "    else:\n",
    "        P[m]=np.linalg.inv(A)@B@P[m-1]\n",
    "        \n",
    "print(A)"
   ]
  },
  {
   "cell_type": "code",
   "execution_count": 2,
   "id": "ae08f137",
   "metadata": {},
   "outputs": [
    {
     "name": "stderr",
     "output_type": "stream",
     "text": [
      "MovieWriter ffmpeg unavailable; using Pillow instead.\n"
     ]
    },
    {
     "data": {
      "image/png": "[encoded data removed]",
      "text/plain": [
       "<Figure size 432x288 with 1 Axes>"
      ]
     },
     "metadata": {
      "needs_background": "light"
     },
     "output_type": "display_data"
    }
   ],
   "source": [
    "import matplotlib.pyplot as plt\n",
    "from matplotlib.animation import FuncAnimation\n",
    "\n",
    "fig, ax = plt.subplots()\n",
    "ln, = plt.plot([], [])\n",
    "\n",
    "def init():\n",
    "    ax.set_xlim(0, L)\n",
    "    ax.set_ylim(0, 2)\n",
    "\n",
    "    return ln,\n",
    "\n",
    "def update(frame):\n",
    "    ln.set_data(x, P[frame])\n",
    "    return ln,\n",
    "\n",
    "ani = FuncAnimation(fig, update, frames=np.array(range(nt+1)),\n",
    "                    init_func=init, blit=True)\n",
    "ani.save('fig.gif')"
   ]
  },
  {
   "cell_type": "code",
   "execution_count": 3,
   "id": "66678572",
   "metadata": {},
   "outputs": [
    {
     "name": "stderr",
     "output_type": "stream",
     "text": [
      "C:\\Users\\samue\\AppData\\Local\\Temp/ipykernel_34004/1983119683.py:9: RuntimeWarning: invalid value encountered in double_scalars\n",
      "  var = sigma**2*((1-np.exp(-2*gamma*m*dt))/(2*gamma))/2\n"
     ]
    }
   ],
   "source": [
    "from scipy import stats\n",
    "X_0 = 10\n",
    "x = np.linspace(X_0 - 5, X_0 + 5, 100)\n",
    "\n",
    "P_stoc = np.zeros((nt+1,x.size))\n",
    "\n",
    "for m in range(nt+1):\n",
    "    mu = X_0*np.exp(-gamma*m*dt)\n",
    "    var = sigma**2*((1-np.exp(-2*gamma*m*dt))/(2*gamma))/2\n",
    "    P_stoc[m] = stats.norm.pdf(x, mu, var)"
   ]
  },
  {
   "cell_type": "code",
   "execution_count": 4,
   "id": "efab03dc",
   "metadata": {},
   "outputs": [
    {
     "name": "stderr",
     "output_type": "stream",
     "text": [
      "MovieWriter ffmpeg unavailable; using Pillow instead.\n"
     ]
    },
    {
     "data": {
      "image/png": "[encoded data removed]",
      "text/plain": [
       "<Figure size 432x288 with 1 Axes>"
      ]
     },
     "metadata": {
      "needs_background": "light"
     },
     "output_type": "display_data"
    }
   ],
   "source": [
    "import matplotlib.pyplot as plt\n",
    "from matplotlib.animation import FuncAnimation\n",
    "\n",
    "fig, ax = plt.subplots()\n",
    "ln, = plt.plot([], [])\n",
    "\n",
    "def init():\n",
    "    ax.set_xlim(0, L)\n",
    "    ax.set_ylim(0, 2)\n",
    "\n",
    "    return ln,\n",
    "\n",
    "def update(frame):\n",
    "    ln.set_data(x, P_stoc[frame])\n",
    "    return ln,\n",
    "\n",
    "ani = FuncAnimation(fig, update, frames=np.array(range(nt+1)),\n",
    "                    init_func=init, blit=True)\n",
    "ani.save('fig2.gif')"
   ]
  },
  {
   "cell_type": "code",
   "execution_count": 5,
   "id": "e1685282",
   "metadata": {},
   "outputs": [],
   "source": [
    "mu_0 = L/2\n",
    "sigma_0 = 0.1\n",
    "x_samples = []\n",
    "for i in range(10000):\n",
    "    x = np.zeros(nt+1)\n",
    "    x[0] = np.random.normal()*sigma_0+mu_0\n",
    "    for j in range(1,nt+1):\n",
    "        a = np.random.normal()\n",
    "        x[j] = x[j-1] - dt*gamma*x[j-1] + sigma*np.sqrt(dt)*a\n",
    "    x_samples.append(x)\n",
    "x_samples = np.array(x_samples).T"
   ]
  },
  {
   "cell_type": "code",
   "execution_count": 6,
   "id": "e4c34f74",
   "metadata": {},
   "outputs": [
    {
     "name": "stderr",
     "output_type": "stream",
     "text": [
      "MovieWriter ffmpeg unavailable; using Pillow instead.\n"
     ]
    },
    {
     "data": {
      "image/png": "[encoded data removed]",
      "text/plain": [
       "<Figure size 432x288 with 1 Axes>"
      ]
     },
     "metadata": {
      "needs_background": "light"
     },
     "output_type": "display_data"
    }
   ],
   "source": [
    "def update_hist(num, data):\n",
    "    plt.cla()\n",
    "    plt.hist(data[num],50,(0,L))\n",
    "    plt.ylim([0,500])\n",
    "\n",
    "fig, ax = plt.subplots()\n",
    "\n",
    "hist = plt.hist(x_samples[0])\n",
    "\n",
    "animation = FuncAnimation(fig, update_hist, nt+1, fargs=(x_samples, ))\n",
    "animation.save('fig3.gif')"
   ]
  },
  {
   "cell_type": "code",
   "execution_count": null,
   "id": "430ed76d",
   "metadata": {},
   "outputs": [],
   "source": []
  }
 ],
 "metadata": {
  "kernelspec": {
   "display_name": "Python 3 (ipykernel)",
   "language": "python",
   "name": "python3"
  },
  "language_info": {
   "codemirror_mode": {
    "name": "ipython",
    "version": 3
   },
   "file_extension": ".py",
   "mimetype": "text/x-python",
   "name": "python",
   "nbconvert_exporter": "python",
   "pygments_lexer": "ipython3",
   "version": "3.9.7"
  }
 },
 "nbformat": 4,
 "nbformat_minor": 5
}
